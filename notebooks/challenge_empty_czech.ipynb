{
 "cells": [
  {
   "cell_type": "markdown",
   "metadata": {
    "jupyter": {
     "source_hidden": true
    }
   },
   "source": [
    "# Challenge\n",
    "Please see the README.md in this repository."
   ]
  },
  {
   "cell_type": "markdown",
   "metadata": {},
   "source": [
    "# Getting started\n",
    "## Importing Pandas and loading the training data / \n",
    "## Importovaní Pandas a načtení trénovacích dat\n"
   ]
  },
  {
   "cell_type": "code",
   "execution_count": 1,
   "metadata": {},
   "outputs": [],
   "source": [
    "import pandas as pd"
   ]
  },
  {
   "cell_type": "code",
   "execution_count": 2,
   "metadata": {},
   "outputs": [],
   "source": [
    "dataTrain = pd.read_csv('../data/Trainingdata_p4m.csv',';')"
   ]
  },
  {
   "cell_type": "markdown",
   "metadata": {},
   "source": [
    "## Explore the data set / Prozkoumejte datovou sadu"
   ]
  },
  {
   "cell_type": "markdown",
   "metadata": {},
   "source": [
    "Feel free to use any search engine to help you with the following tasks! / Neváhejte použít jakýkoli vyhledávač, který vám pomůže s následujícími úkoly!"
   ]
  },
  {
   "cell_type": "markdown",
   "metadata": {},
   "source": [
    "**Task** Write code to output the number of rows and columns of dataTrain. / Napište kód pro vypsání počtu řádků a sloupců datového setu dataTrain."
   ]
  },
  {
   "cell_type": "code",
   "execution_count": null,
   "metadata": {},
   "outputs": [],
   "source": []
  },
  {
   "cell_type": "markdown",
   "metadata": {},
   "source": [
    "**Task** Get a list of column names. / Získejte seznam názvů sloupců."
   ]
  },
  {
   "cell_type": "code",
   "execution_count": null,
   "metadata": {},
   "outputs": [],
   "source": []
  },
  {
   "cell_type": "markdown",
   "metadata": {},
   "source": [
    "**Task** Calculate the mean of the target 'Q_Inj [mm3]'. / Vypočtěte průměr odezvy 'Q_Inj [mm3]'."
   ]
  },
  {
   "cell_type": "code",
   "execution_count": null,
   "metadata": {},
   "outputs": [],
   "source": []
  },
  {
   "cell_type": "markdown",
   "metadata": {},
   "source": [
    "**Task** Plot a histogram of the target. / Vytvořte histogram dané odezvy."
   ]
  },
  {
   "cell_type": "code",
   "execution_count": null,
   "metadata": {},
   "outputs": [],
   "source": []
  },
  {
   "cell_type": "markdown",
   "metadata": {},
   "source": [
    "**Task** Plot histograms for all columns. / Vytvořte histogram pro všechny sloupce."
   ]
  },
  {
   "cell_type": "code",
   "execution_count": null,
   "metadata": {},
   "outputs": [],
   "source": []
  },
  {
   "cell_type": "markdown",
   "metadata": {},
   "source": [
    "**Task** Calculate the correlation between the target and all other columns. / Vypočtěte korelaci mezi odezvou a všemi ostatními sloupci."
   ]
  },
  {
   "cell_type": "code",
   "execution_count": null,
   "metadata": {},
   "outputs": [],
   "source": []
  },
  {
   "cell_type": "markdown",
   "metadata": {},
   "source": [
    "**Task** Find out which column (besides the target itself) has the highest absolute correlation with the target. / Zjistěte, který sloupec (kromě samotné odezvy) má nejvyšší absolutní korelaci s odezvou."
   ]
  },
  {
   "cell_type": "code",
   "execution_count": null,
   "metadata": {},
   "outputs": [],
   "source": []
  },
  {
   "cell_type": "markdown",
   "metadata": {},
   "source": [
    "**Task** Plot the scatter plot between the target and the column from the previous task. / Vytvořte bodový graf zobrazující vztah mezi odezvou a sloupcem z minulého úkolu."
   ]
  },
  {
   "cell_type": "code",
   "execution_count": null,
   "metadata": {},
   "outputs": [],
   "source": []
  },
  {
   "cell_type": "markdown",
   "metadata": {},
   "source": [
    "**Task** Does the scatter plot or the correlations look promising, for predicting the target? / Vypadá korelace či bodový graf slibně pro predikci daného cíle?\n",
    "\n",
    "Think about the answer before scrolling further. / Popřemýšlejte o odpovědi, než se půjdete dál."
   ]
  },
  {
   "cell_type": "markdown",
   "metadata": {},
   "source": [
    "--------------------------------------------------------------------------------------------------------------------------------------------------------------------------------------"
   ]
  },
  {
   "cell_type": "markdown",
   "metadata": {},
   "source": [
    "You need more domain knowledge to preprocess the data further. / Potřebujete více znalostí o procesu, abyste mohli dále pracovat s daty.\n",
    "\n",
    "**Domain Knowledge**:\n",
    " In each row of the dataset, the columns named *p_transient_x [bar]* form a time series. / \n",
    "\n",
    "**Domain Knowledge**: \n",
    " V každém řádku datové sady vytváří sloupce pojmenované *p_transient_x [bar]* časovou řadu."
   ]
  },
  {
   "cell_type": "markdown",
   "metadata": {},
   "source": [
    "--------------------------------------------------------------------------------------------------------------------------------------------------------------------------------------"
   ]
  },
  {
   "cell_type": "markdown",
   "metadata": {},
   "source": [
    "**Task** Visualize the p_transient time series for a single row. / Vizualizujte p_transient časovou řadu pro jeden řádek."
   ]
  },
  {
   "cell_type": "code",
   "execution_count": 3,
   "metadata": {},
   "outputs": [],
   "source": [
    "transients = [f\"p_transient_{i} [bar]\" for i in range(1, 21)] # a list of relevant column names for your convenience\n",
    "# Your code here"
   ]
  },
  {
   "cell_type": "markdown",
   "metadata": {},
   "source": [
    "**Task** Visualize the p_transient time series for a few more rows. / Vizualizujte p_transient časovou řadu pro více řádků."
   ]
  },
  {
   "cell_type": "code",
   "execution_count": null,
   "metadata": {},
   "outputs": [],
   "source": []
  },
  {
   "cell_type": "markdown",
   "metadata": {},
   "source": [
    "**Domain Knowledge**:\n",
    "For our target, the variations within individual time series are more important than across time series.\n",
    "You come up with the following preprocessing function to adjust your data accordingly: /\n",
    "**Domain Knowledge** Pro vysvětlení a predikci naší odezvy je variace v jednotlivých časových řadách důležitější než variace mezi různými časovými řadami. \n",
    "Následující funkce je vhodná k úpravě vašich dat:"
   ]
  },
  {
   "cell_type": "code",
   "execution_count": 4,
   "metadata": {},
   "outputs": [],
   "source": [
    "def preprocess(df):\n",
    "    transients = [f\"p_transient_{i} [bar]\" for i in range(1, 21)]\n",
    "    # shift the time series, so that the maximum of each series is at 0.\n",
    "    df.loc[:,transients] = df.loc[:, transients].sub(df.loc[:, transients].max(axis=1), axis=0)\n",
    "    return df"
   ]
  },
  {
   "cell_type": "markdown",
   "metadata": {},
   "source": [
    "**Task** Apply that function to dataTrain, so that dataTrain contains the preprocessed data. / Aplikujte tuto funkci na dataTrain tak, aby dataTrain poté obsahovala vámi zpracovaná data."
   ]
  },
  {
   "cell_type": "code",
   "execution_count": null,
   "metadata": {},
   "outputs": [],
   "source": []
  },
  {
   "cell_type": "markdown",
   "metadata": {},
   "source": [
    "**Task** Visualize a few of the time series again. What is the difference to before? / Znova vizualizujte několik časových řád. Jaký je rozdíl od minule?"
   ]
  },
  {
   "cell_type": "code",
   "execution_count": null,
   "metadata": {},
   "outputs": [],
   "source": []
  },
  {
   "cell_type": "markdown",
   "metadata": {},
   "source": [
    "**Task** Calculate correlations again. What changed? / Vypočtěte znova korelace. Co se změnilo?"
   ]
  },
  {
   "cell_type": "code",
   "execution_count": null,
   "metadata": {},
   "outputs": [],
   "source": []
  },
  {
   "cell_type": "markdown",
   "metadata": {},
   "source": [
    "**Task** Create a scatter plot between the target and any of the highly correlated feature columns. / Vytvořte bodový graf mezi odezvou a kterýmkoli ze silně korelovaných sloupců."
   ]
  },
  {
   "cell_type": "code",
   "execution_count": null,
   "metadata": {},
   "outputs": [],
   "source": []
  },
  {
   "cell_type": "markdown",
   "metadata": {},
   "source": [
    "# First ML / První ML (strojové učení)"
   ]
  },
  {
   "cell_type": "markdown",
   "metadata": {},
   "source": [
    "**Task** Create a dataframe *dataTrainX* containing only the feature columns. / Vytvořte dataframe *dataTrainX* obsahující pouze sloupce z minulého úkolu."
   ]
  },
  {
   "cell_type": "code",
   "execution_count": null,
   "metadata": {},
   "outputs": [],
   "source": []
  },
  {
   "cell_type": "markdown",
   "metadata": {},
   "source": [
    "**Task** Create a pandas series *dataTrainY* consisting of only the target column. / Vytvořte pandas series *dataTrainY* obsahující pouze odezvu."
   ]
  },
  {
   "cell_type": "code",
   "execution_count": null,
   "metadata": {},
   "outputs": [],
   "source": []
  },
  {
   "cell_type": "markdown",
   "metadata": {},
   "source": [
    "**Task** Import from scikit learn: MinMax-Scaler and (MLP) Multi-Layer Perceptron. / Importujte funkce *MinMax-Scaler* a *(MLP) Multi-Layer Perceptron* z knihovny skicit learn."
   ]
  },
  {
   "cell_type": "code",
   "execution_count": null,
   "metadata": {},
   "outputs": [],
   "source": []
  },
  {
   "cell_type": "markdown",
   "metadata": {},
   "source": [
    "**Task** Fit and apply the MinMax-Scaler to *dataTrainX* / Použijte MinMax-Scaler na *dataTrainX*"
   ]
  },
  {
   "cell_type": "code",
   "execution_count": null,
   "metadata": {},
   "outputs": [],
   "source": []
  },
  {
   "cell_type": "markdown",
   "metadata": {},
   "source": [
    "**Task** Initialize a MLP. / Inicializujte MLP."
   ]
  },
  {
   "cell_type": "code",
   "execution_count": null,
   "metadata": {},
   "outputs": [],
   "source": []
  },
  {
   "cell_type": "markdown",
   "metadata": {},
   "source": [
    "**Task** Fit the MLP on the training data. / Natrénujte MLP na cvičných datech."
   ]
  },
  {
   "cell_type": "code",
   "execution_count": null,
   "metadata": {},
   "outputs": [],
   "source": []
  },
  {
   "cell_type": "markdown",
   "metadata": {},
   "source": [
    "# First Evaluation / První vyhodnocení"
   ]
  },
  {
   "cell_type": "markdown",
   "metadata": {},
   "source": [
    "**Task** Load the test set (it's in the same folder as the training set) into a dataframe *dataTest*. / Načtěte testovací dataset (je ve stejném adresáři jako cvičná data) do dataframe *dataTest*."
   ]
  },
  {
   "cell_type": "code",
   "execution_count": null,
   "metadata": {},
   "outputs": [],
   "source": []
  },
  {
   "cell_type": "markdown",
   "metadata": {},
   "source": [
    "**Task** Apply the time series preprocessing to the test set. / Aplikujte funkce pro preprocessing časové řady na testovací sadu."
   ]
  },
  {
   "cell_type": "code",
   "execution_count": null,
   "metadata": {},
   "outputs": [],
   "source": []
  },
  {
   "cell_type": "markdown",
   "metadata": {},
   "source": [
    "**Task** Split *dataTest* into *dataTestX* and *dataTestY*. / Rozdělte *dataTest* na *dataTestX* a *dataTestY*."
   ]
  },
  {
   "cell_type": "code",
   "execution_count": null,
   "metadata": {},
   "outputs": [],
   "source": []
  },
  {
   "cell_type": "markdown",
   "metadata": {},
   "source": [
    "**Task** Apply the MinMax scaler to *dataTestX*. / Aplikujte MinMax scaler na *dataTestX*."
   ]
  },
  {
   "cell_type": "code",
   "execution_count": null,
   "metadata": {},
   "outputs": [],
   "source": []
  },
  {
   "cell_type": "markdown",
   "metadata": {},
   "source": [
    "**Task** Predict on *dataTestX*. / Použijte *dataTestX* pro predikci."
   ]
  },
  {
   "cell_type": "code",
   "execution_count": null,
   "metadata": {},
   "outputs": [],
   "source": []
  },
  {
   "cell_type": "markdown",
   "metadata": {},
   "source": [
    "**Task** Evaluate your prediction. / Vyhodnoťte svoji predikci."
   ]
  },
  {
   "cell_type": "code",
   "execution_count": null,
   "metadata": {},
   "outputs": [],
   "source": []
  }
 ],
 "metadata": {
  "kernelspec": {
   "display_name": "Python 3",
   "language": "python",
   "name": "python3"
  },
  "language_info": {
   "codemirror_mode": {
    "name": "ipython",
    "version": 3
   },
   "file_extension": ".py",
   "mimetype": "text/x-python",
   "name": "python",
   "nbconvert_exporter": "python",
   "pygments_lexer": "ipython3",
   "version": "3.8.3"
  }
 },
 "nbformat": 4,
 "nbformat_minor": 4
}
