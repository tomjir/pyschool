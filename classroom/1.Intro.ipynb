{
 "cells": [
  {
   "cell_type": "markdown",
   "metadata": {
    "id": "cWSPdZAHiBx5"
   },
   "source": [
    "# Python for Managers | Classroom | 2022\n",
    "\n",
    "-----\n",
    "## Introduction to Python \n",
    "-----"
   ]
  },
  {
   "cell_type": "markdown",
   "metadata": {},
   "source": [
    "### Hello World!\n",
    "Start your python journey as it is tradition for coders:"
   ]
  },
  {
   "cell_type": "code",
   "execution_count": null,
   "metadata": {
    "id": "H_9NErgtiByD"
   },
   "outputs": [],
   "source": [
    "print(\"Text\")"
   ]
  },
  {
   "cell_type": "code",
   "execution_count": null,
   "metadata": {},
   "outputs": [],
   "source": [
    "print(\"--\")"
   ]
  },
  {
   "cell_type": "markdown",
   "metadata": {},
   "source": [
    "**Advice**: use the ``TAB`` key while typing a (key)word to \n",
    "* show syntactically correct options\n",
    "* autocomplete\n"
   ]
  },
  {
   "cell_type": "markdown",
   "metadata": {},
   "source": [
    "---"
   ]
  },
  {
   "cell_type": "markdown",
   "metadata": {},
   "source": [
    "### Handling errors\n",
    "* Keep calm\n",
    "* Read the error message\n",
    "* Try to fix it, ask your trainer or copy&paste the last line of the error into a new google search.\n",
    "* Code on!"
   ]
  },
  {
   "cell_type": "code",
   "execution_count": null,
   "metadata": {},
   "outputs": [],
   "source": [
    "print('c')"
   ]
  },
  {
   "cell_type": "code",
   "execution_count": null,
   "metadata": {},
   "outputs": [],
   "source": [
    "prin('hello, world!')"
   ]
  },
  {
   "cell_type": "code",
   "execution_count": null,
   "metadata": {},
   "outputs": [],
   "source": [
    "print('hello, world!'"
   ]
  },
  {
   "cell_type": "code",
   "execution_count": null,
   "metadata": {},
   "outputs": [],
   "source": [
    "# This is a comment. Each line starting with a # will not affect your code, but are very useful for documentation"
   ]
  },
  {
   "cell_type": "markdown",
   "metadata": {},
   "source": [
    "---"
   ]
  },
  {
   "cell_type": "markdown",
   "metadata": {},
   "source": [
    "### Variables  \n",
    "You can assign and store values inside a variable.  \n",
    "Naming of variables:  \n",
    "* It can be only one word.\n",
    "* It can use only letters, numbers and the underscore _\n",
    "* It can't begin with a number."
   ]
  },
  {
   "cell_type": "code",
   "execution_count": null,
   "metadata": {},
   "outputs": [],
   "source": [
    "my_name = \"Kamila\"\n",
    "print(my_name)"
   ]
  },
  {
   "cell_type": "code",
   "execution_count": null,
   "metadata": {},
   "outputs": [],
   "source": [
    "print(\"Hello\", my_name)"
   ]
  },
  {
   "cell_type": "code",
   "execution_count": null,
   "metadata": {},
   "outputs": [],
   "source": [
    "print(\"Hello\" + my_name)"
   ]
  },
  {
   "cell_type": "markdown",
   "metadata": {},
   "source": [
    "# TASK"
   ]
  },
  {
   "cell_type": "code",
   "execution_count": null,
   "metadata": {},
   "outputs": [],
   "source": [
    "# Change the value of my_name to your first name and print it.\n",
    "# YOUR CODE HERE\n",
    "\n",
    "# my_name = ...\n"
   ]
  },
  {
   "cell_type": "markdown",
   "metadata": {},
   "source": [
    "---"
   ]
  },
  {
   "cell_type": "markdown",
   "metadata": {
    "id": "XvNjkzYIiByG"
   },
   "source": [
    "## Python Data Types "
   ]
  },
  {
   "cell_type": "markdown",
   "metadata": {
    "id": "dDkDsrO5iByH"
   },
   "source": [
    "In this tutorial, we review the most important and mainly used python data types.  "
   ]
  },
  {
   "cell_type": "markdown",
   "metadata": {
    "id": "p9pbl4HSiByI"
   },
   "source": [
    "### Numbers "
   ]
  },
  {
   "cell_type": "markdown",
   "metadata": {
    "id": "DvUg-_37iByJ"
   },
   "source": [
    " - `int` (`integer`, means \"whole\" from latin)\n",
    " \n",
    "$\\mathbb{Z}$ \n"
   ]
  },
  {
   "cell_type": "code",
   "execution_count": null,
   "metadata": {
    "id": "aNWFvOJQiByK"
   },
   "outputs": [],
   "source": [
    "# int \n",
    "x = 2"
   ]
  },
  {
   "cell_type": "markdown",
   "metadata": {
    "id": "vXn_S-hbiByN"
   },
   "source": [
    "print(x)"
   ]
  },
  {
   "cell_type": "markdown",
   "metadata": {},
   "source": [
    "Use ```type()``` to get the data type of your variable"
   ]
  },
  {
   "cell_type": "code",
   "execution_count": null,
   "metadata": {},
   "outputs": [],
   "source": [
    "type(x)"
   ]
  },
  {
   "cell_type": "code",
   "execution_count": null,
   "metadata": {
    "id": "yGG3NRRviByT"
   },
   "outputs": [],
   "source": [
    "a = 4 + 5\n",
    "b = 4 * 5\n",
    "c = 20 / 5\n",
    "d = 6**4\n",
    "\n",
    "print(a, b, c, d)"
   ]
  },
  {
   "cell_type": "code",
   "execution_count": null,
   "metadata": {},
   "outputs": [],
   "source": [
    "a = 2 * x\n",
    "print(a)"
   ]
  },
  {
   "cell_type": "markdown",
   "metadata": {
    "id": "AHo8mipyiByW"
   },
   "source": [
    " - `float` (`floating point number`)\n",
    " \n",
    " $\\mathbb{R}$ "
   ]
  },
  {
   "cell_type": "code",
   "execution_count": null,
   "metadata": {
    "id": "-0xfnHW8iByX"
   },
   "outputs": [],
   "source": [
    "# float \n",
    "# !!!Care!!! The decimal symbol is a dot . not a comma ,\n",
    "y = 1.01111"
   ]
  },
  {
   "cell_type": "code",
   "execution_count": null,
   "metadata": {
    "id": "L0jX-o8piBya"
   },
   "outputs": [],
   "source": [
    "print(y)\n",
    "type(y) # python automatically printing the last line of the code"
   ]
  },
  {
   "cell_type": "code",
   "execution_count": null,
   "metadata": {
    "id": "DpWfnXtKiBye",
    "scrolled": true
   },
   "outputs": [],
   "source": [
    "a = 4.2 + 5.1\n",
    "b = 4.3 * 5.2\n",
    "c = 5.0 / 4.0\n",
    "\n",
    "print(a, b, c)"
   ]
  },
  {
   "cell_type": "code",
   "execution_count": null,
   "metadata": {},
   "outputs": [],
   "source": [
    "int_number = 2\n",
    "float_number = 2.4\n",
    "result =int_number * float_number\n",
    "print(result)"
   ]
  },
  {
   "cell_type": "markdown",
   "metadata": {
    "id": "pIy3Q5ceiByz"
   },
   "source": [
    "## str(String)\n",
    "* Text"
   ]
  },
  {
   "cell_type": "code",
   "execution_count": null,
   "metadata": {
    "id": "_iDmpLJpiBy0"
   },
   "outputs": [],
   "source": [
    "x = \"abc\"\n",
    "print(x)"
   ]
  },
  {
   "cell_type": "code",
   "execution_count": null,
   "metadata": {},
   "outputs": [],
   "source": [
    "type(x)"
   ]
  },
  {
   "cell_type": "code",
   "execution_count": null,
   "metadata": {
    "id": "oWo5qOqCiBy7"
   },
   "outputs": [],
   "source": [
    "a = 'Hello'\n",
    "b = \"World\"\n",
    "s = a + b\n",
    "print(s)"
   ]
  },
  {
   "cell_type": "markdown",
   "metadata": {},
   "source": [
    "Using \"*\""
   ]
  },
  {
   "cell_type": "code",
   "execution_count": null,
   "metadata": {
    "id": "Yj41Mb8piBy_"
   },
   "outputs": [],
   "source": [
    "print(b * 3)"
   ]
  },
  {
   "cell_type": "markdown",
   "metadata": {},
   "source": [
    "You can \"slice\" a text into subparts like this:"
   ]
  },
  {
   "cell_type": "code",
   "execution_count": null,
   "metadata": {
    "id": "iF__20l_iBzG"
   },
   "outputs": [],
   "source": [
    "print(s)        # Complete string\n",
    "print(s[0])     # First character of the string. We start counting from zero!\n",
    "print(s[1])     # Second character of the string\n",
    "print(s[2:5])   # String starting from 3rd to 5th (indexes 2, 3 and 4)\n",
    "print(s[2:])    # String starting from 3rd character\n",
    "print(s[-1])    # Last character"
   ]
  },
  {
   "cell_type": "code",
   "execution_count": null,
   "metadata": {},
   "outputs": [],
   "source": [
    "my_name = \"Kamila\"\n",
    "my_name[0:3]"
   ]
  },
  {
   "cell_type": "markdown",
   "metadata": {},
   "source": [
    "# TASK"
   ]
  },
  {
   "cell_type": "code",
   "execution_count": null,
   "metadata": {},
   "outputs": [],
   "source": [
    "# Define a new variable \"shoe_size\" and assign to it your shoe size. Divide this number by 2.5 and print it.  \n",
    "### YOUR CODE HERE\n",
    "\n",
    "# Print the last 3 characters of \"my_name\"\n",
    "### YOUR CODE HERE\n",
    "\n",
    "shoe_size = 38\n",
    "print(shoe_size / 2.5)"
   ]
  },
  {
   "cell_type": "code",
   "execution_count": null,
   "metadata": {},
   "outputs": [],
   "source": [
    "print(my_name[-3:])"
   ]
  },
  {
   "cell_type": "markdown",
   "metadata": {},
   "source": [
    "---"
   ]
  },
  {
   "cell_type": "markdown",
   "metadata": {
    "id": "m6PBWNvAiBzK"
   },
   "source": [
    "## Advanced Data Types"
   ]
  },
  {
   "cell_type": "markdown",
   "metadata": {
    "id": "oOJqbq8LiBzL"
   },
   "source": [
    "### list "
   ]
  },
  {
   "cell_type": "markdown",
   "metadata": {},
   "source": [
    "list = list of multiple values that are assigned to a single variable. python recognizes it if you write the values in [ ] and seperate it with , (commas)"
   ]
  },
  {
   "cell_type": "code",
   "execution_count": null,
   "metadata": {
    "id": "-kMiu2PeiBzM"
   },
   "outputs": [],
   "source": [
    "values = [33450, 34010, 33990, 33200]\n",
    "values"
   ]
  },
  {
   "cell_type": "code",
   "execution_count": null,
   "metadata": {},
   "outputs": [],
   "source": [
    "print(type(values))"
   ]
  },
  {
   "cell_type": "code",
   "execution_count": null,
   "metadata": {},
   "outputs": [],
   "source": [
    "type(values[0])"
   ]
  },
  {
   "cell_type": "markdown",
   "metadata": {},
   "source": [
    "* you can also put strings (=text) into the list or combine different data types (eg. integer, float, string, ...)"
   ]
  },
  {
   "cell_type": "code",
   "execution_count": null,
   "metadata": {
    "id": "LSggTjZfiBzO"
   },
   "outputs": [],
   "source": [
    "income = ['Low', 'Medium', 'High']\n",
    "names = ['John Doe', 'Janne Doe', 'Your neighbor']\n",
    "\n",
    "print(income)\n",
    "print(names)"
   ]
  },
  {
   "cell_type": "code",
   "execution_count": null,
   "metadata": {
    "id": "-0JQwZe6iBzW"
   },
   "outputs": [],
   "source": [
    "features = ['Janne Doe', 'Medium', 500000, 12.0, True]\n",
    "features"
   ]
  },
  {
   "cell_type": "markdown",
   "metadata": {},
   "source": [
    "* Access parts of the list just like slicing a text."
   ]
  },
  {
   "cell_type": "code",
   "execution_count": null,
   "metadata": {
    "id": "eyb6DqAEiBzY"
   },
   "outputs": [],
   "source": [
    "print(features[0])\n",
    "print(features[1])\n",
    "print(features[3])"
   ]
  },
  {
   "cell_type": "code",
   "execution_count": null,
   "metadata": {},
   "outputs": [],
   "source": [
    "print(features[:4])"
   ]
  },
  {
   "cell_type": "markdown",
   "metadata": {},
   "source": [
    "* Print items from your list"
   ]
  },
  {
   "cell_type": "code",
   "execution_count": null,
   "metadata": {
    "id": "fWtnmJMXiBza"
   },
   "outputs": [],
   "source": [
    "print(\"hello all!\")\n",
    "print('hello all! I am ', features[1])"
   ]
  },
  {
   "cell_type": "markdown",
   "metadata": {},
   "source": [
    "* you can replace values by assigning them a value to a determined position in the list like this: (Be careful with the indexing - it starts at 0!)"
   ]
  },
  {
   "cell_type": "code",
   "execution_count": null,
   "metadata": {},
   "outputs": [],
   "source": [
    "print(features)\n",
    "features[4]='hello all!'\n",
    "print(features)"
   ]
  },
  {
   "cell_type": "markdown",
   "metadata": {},
   "source": [
    "* you can add values by using the build-in .append function like this:"
   ]
  },
  {
   "cell_type": "code",
   "execution_count": null,
   "metadata": {
    "id": "ctyWTAhtiBzo"
   },
   "outputs": [],
   "source": [
    "features.append('One more element in the list')\n",
    "print(features)"
   ]
  },
  {
   "cell_type": "markdown",
   "metadata": {
    "id": "TB9I4HZYiBzp"
   },
   "source": [
    "* you can remove values by using the build-in .remove function like this: "
   ]
  },
  {
   "cell_type": "code",
   "execution_count": null,
   "metadata": {
    "id": "nCZO64DjiBzs"
   },
   "outputs": [],
   "source": [
    "features.remove(\"Medium\")"
   ]
  },
  {
   "cell_type": "code",
   "execution_count": null,
   "metadata": {
    "id": "lGqvRDAOiBzu"
   },
   "outputs": [],
   "source": [
    "print(features)"
   ]
  },
  {
   "cell_type": "markdown",
   "metadata": {
    "id": "_-yzacpOiB0F"
   },
   "source": [
    "# Dictionaries \n",
    "* Think of it like tables"
   ]
  },
  {
   "cell_type": "code",
   "execution_count": null,
   "metadata": {
    "id": "YjMriwAWiB0G"
   },
   "outputs": [],
   "source": [
    "# {key : value}\n",
    "words_frequencies = {'Apples': 2, 'Bananas': 1} \n",
    "print(words_frequencies)"
   ]
  },
  {
   "cell_type": "code",
   "execution_count": null,
   "metadata": {},
   "outputs": [],
   "source": [
    "words_frequencies['Apples'] = 4\n",
    "words_frequencies"
   ]
  },
  {
   "cell_type": "code",
   "execution_count": null,
   "metadata": {},
   "outputs": [],
   "source": [
    "print(words_frequencies['Apples'])"
   ]
  },
  {
   "cell_type": "code",
   "execution_count": null,
   "metadata": {
    "id": "SBD9q_H-iB0H"
   },
   "outputs": [],
   "source": [
    "print(words_frequencies['Orange'])"
   ]
  },
  {
   "cell_type": "code",
   "execution_count": null,
   "metadata": {
    "id": "FQQPSDRPiB0M"
   },
   "outputs": [],
   "source": [
    "another_dict = {'abc': 3.2, 222: [0.8, 1], '123': None}\n",
    "print(another_dict)"
   ]
  },
  {
   "cell_type": "markdown",
   "metadata": {},
   "source": [
    "---"
   ]
  },
  {
   "cell_type": "markdown",
   "metadata": {
    "id": "ey13YctDiB0X"
   },
   "source": [
    "## Conditional Statements\n",
    "* if/else/elif"
   ]
  },
  {
   "cell_type": "code",
   "execution_count": null,
   "metadata": {
    "id": "ITLLz3eIiB0Y"
   },
   "outputs": [],
   "source": [
    "if 1 == 1: # python uses colon \":\" to indent the next code lines which defines scope & visualizes the program flow\n",
    "    print('one is one')"
   ]
  },
  {
   "cell_type": "code",
   "execution_count": null,
   "metadata": {
    "id": "eG6IBfjiiB0d"
   },
   "outputs": [],
   "source": [
    "a = 5\n",
    "if a > 6:\n",
    "    print('a is bigger than 6')\n",
    "else:\n",
    "    print(\"a isn't bigger than 6\")    "
   ]
  },
  {
   "cell_type": "code",
   "execution_count": null,
   "metadata": {},
   "outputs": [],
   "source": [
    "a = 10\n",
    "if a > 6:\n",
    "    print('a is bigger than 6')\n",
    "elif a > 5:\n",
    "    print('a is bigger than 5')\n",
    "elif a > 4:\n",
    "    print('a is bigger than 4')\n",
    "else:\n",
    "    print(\"a isn't bigger than 6 or 5\")    "
   ]
  },
  {
   "cell_type": "markdown",
   "metadata": {},
   "source": [
    "---"
   ]
  },
  {
   "cell_type": "markdown",
   "metadata": {
    "id": "d5eplrQkiB0j"
   },
   "source": [
    "## Range "
   ]
  },
  {
   "cell_type": "code",
   "execution_count": null,
   "metadata": {
    "id": "bnkkQeR2iB0j"
   },
   "outputs": [],
   "source": [
    "a_list = [0,1,2,3,4,5,6,7,8,9,10]\n",
    "a_list"
   ]
  },
  {
   "cell_type": "markdown",
   "metadata": {},
   "source": [
    "Function lenght ```len()```"
   ]
  },
  {
   "cell_type": "code",
   "execution_count": null,
   "metadata": {},
   "outputs": [],
   "source": [
    "(len(a_list))"
   ]
  },
  {
   "cell_type": "code",
   "execution_count": null,
   "metadata": {},
   "outputs": [],
   "source": [
    "b_list = list(range(11))\n",
    "b_list"
   ]
  },
  {
   "cell_type": "code",
   "execution_count": null,
   "metadata": {},
   "outputs": [],
   "source": [
    "b_list = list(range(1,11))\n",
    "b_list"
   ]
  },
  {
   "cell_type": "code",
   "execution_count": null,
   "metadata": {},
   "outputs": [],
   "source": [
    "b_list = list(range(1,11,2))\n",
    "b_list"
   ]
  },
  {
   "cell_type": "markdown",
   "metadata": {},
   "source": [
    "---"
   ]
  },
  {
   "cell_type": "markdown",
   "metadata": {},
   "source": [
    "## Loops"
   ]
  },
  {
   "cell_type": "markdown",
   "metadata": {},
   "source": [
    "for ```variable``` in ```sequence```: <br>\n",
    "&emsp; body_of_loop that has set of statements <br>\n",
    "&emsp; which requires repeated execution"
   ]
  },
  {
   "cell_type": "markdown",
   "metadata": {},
   "source": [
    "Here ```<variable>``` is a variable that is used for iterating over a ```<sequence>```. On every iteration it takes the next value from ```<sequence>```  until the end of sequence is reached."
   ]
  },
  {
   "cell_type": "code",
   "execution_count": null,
   "metadata": {},
   "outputs": [],
   "source": [
    "c_list = [8,7,6,5,4,3,2,1]"
   ]
  },
  {
   "cell_type": "code",
   "execution_count": null,
   "metadata": {},
   "outputs": [],
   "source": [
    "for i in c_list:\n",
    "    print(i)"
   ]
  },
  {
   "cell_type": "code",
   "execution_count": null,
   "metadata": {},
   "outputs": [],
   "source": [
    "for i in c_list:\n",
    "    sq = i * i\n",
    "    print(sq)\n",
    "print(\"Program Finished!\")"
   ]
  },
  {
   "cell_type": "code",
   "execution_count": null,
   "metadata": {},
   "outputs": [],
   "source": [
    "for i in range(8):\n",
    "    print(c_list[i])"
   ]
  },
  {
   "cell_type": "code",
   "execution_count": null,
   "metadata": {},
   "outputs": [],
   "source": [
    "for i in range(8):\n",
    "    print(\"value of i: \", i)\n",
    "    print(c_list[i])"
   ]
  },
  {
   "cell_type": "markdown",
   "metadata": {},
   "source": [
    "# TASK"
   ]
  },
  {
   "cell_type": "code",
   "execution_count": null,
   "metadata": {},
   "outputs": [],
   "source": [
    "# Write a for loop, where you print out each element of test_list list, if the element is bigger that 5.\n",
    "test_list = [1,2,3,33,55,12,33,0,2,5,6]\n",
    "\n"
   ]
  },
  {
   "cell_type": "markdown",
   "metadata": {},
   "source": [
    "---"
   ]
  },
  {
   "cell_type": "markdown",
   "metadata": {
    "id": "TI3F4znDiB0v"
   },
   "source": [
    "## Functions"
   ]
  },
  {
   "cell_type": "code",
   "execution_count": null,
   "metadata": {
    "id": "2t-beFs9iB0v"
   },
   "outputs": [],
   "source": [
    "def function_name():\n",
    "    a = 2 \n",
    "    b = 5\n",
    "    c = a + b\n",
    "    return c "
   ]
  },
  {
   "cell_type": "code",
   "execution_count": null,
   "metadata": {
    "id": "B7fVSpD7iB0w"
   },
   "outputs": [],
   "source": [
    "function_name()"
   ]
  },
  {
   "cell_type": "code",
   "execution_count": null,
   "metadata": {
    "id": "cg62DQ-0iB0z"
   },
   "outputs": [],
   "source": [
    "# Replace\n",
    "def multiplication(a,b):\n",
    "    return a*b"
   ]
  },
  {
   "cell_type": "code",
   "execution_count": null,
   "metadata": {
    "id": "tP86BbXqiB01"
   },
   "outputs": [],
   "source": [
    "multiplication(2,5)"
   ]
  },
  {
   "cell_type": "markdown",
   "metadata": {},
   "source": [
    "# TASK\n",
    "Write a function for comparing two numbers. The function should return the bigger value:\n",
    "\n",
    "```python\n",
    "def compare(a,b):\n",
    "    ....\n",
    "# for example\n",
    "compare(1,2)\n",
    "> 2\n",
    "    \n",
    "```"
   ]
  },
  {
   "cell_type": "code",
   "execution_count": null,
   "metadata": {},
   "outputs": [],
   "source": [
    "# YOUR CODE HERE\n"
   ]
  },
  {
   "cell_type": "markdown",
   "metadata": {
    "id": "1uBJa6hmiB02"
   },
   "source": [
    "***"
   ]
  }
 ],
 "metadata": {
  "colab": {
   "name": "Kopie von 1.Python.ipynb",
   "provenance": [
    {
     "file_id": "1RxYs1V_osMd8xq8vk-ArcLY-GUphtzsr",
     "timestamp": 1601539578767
    },
    {
     "file_id": "https://github.com/unnir/data_science_tutorials_uni/blob/master/tutorial_1/1.Python.ipynb",
     "timestamp": 1571650597514
    }
   ]
  },
  "kernelspec": {
   "display_name": "Python 3",
   "language": "python",
   "name": "python3"
  },
  "language_info": {
   "codemirror_mode": {
    "name": "ipython",
    "version": 3
   },
   "file_extension": ".py",
   "mimetype": "text/x-python",
   "name": "python",
   "nbconvert_exporter": "python",
   "pygments_lexer": "ipython3",
   "version": "3.8.3"
  }
 },
 "nbformat": 4,
 "nbformat_minor": 4
}
