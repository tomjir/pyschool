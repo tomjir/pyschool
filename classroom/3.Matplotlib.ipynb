{
 "cells": [
  {
   "cell_type": "markdown",
   "metadata": {},
   "source": [
    "# Python for Managers | Classroom | 2021\n",
    "\n",
    "-----\n",
    "## Matplotlib\n",
    "-----"
   ]
  },
  {
   "cell_type": "code",
   "execution_count": 1,
   "metadata": {},
   "outputs": [],
   "source": [
    "import pandas as pd\n",
    "# Matplotlib is used for all kinds of visualization tasks\n",
    "import matplotlib.pyplot as plt\n",
    "%matplotlib inline"
   ]
  },
  {
   "cell_type": "code",
   "execution_count": 6,
   "metadata": {},
   "outputs": [
    {
     "data": {
      "text/html": [
       "<div>\n",
       "<style scoped>\n",
       "    .dataframe tbody tr th:only-of-type {\n",
       "        vertical-align: middle;\n",
       "    }\n",
       "\n",
       "    .dataframe tbody tr th {\n",
       "        vertical-align: top;\n",
       "    }\n",
       "\n",
       "    .dataframe thead th {\n",
       "        text-align: right;\n",
       "    }\n",
       "</style>\n",
       "<table border=\"1\" class=\"dataframe\">\n",
       "  <thead>\n",
       "    <tr style=\"text-align: right;\">\n",
       "      <th></th>\n",
       "      <th>A</th>\n",
       "      <th>B</th>\n",
       "      <th>C</th>\n",
       "      <th>D</th>\n",
       "    </tr>\n",
       "  </thead>\n",
       "  <tbody>\n",
       "    <tr>\n",
       "      <th>PxLuH0ZU4X</th>\n",
       "      <td>0.544733</td>\n",
       "      <td>-0.373149</td>\n",
       "      <td>0.807058</td>\n",
       "      <td>-2.031482</td>\n",
       "    </tr>\n",
       "    <tr>\n",
       "      <th>sbED5oMNnz</th>\n",
       "      <td>0.070206</td>\n",
       "      <td>0.833985</td>\n",
       "      <td>-1.764509</td>\n",
       "      <td>0.221349</td>\n",
       "    </tr>\n",
       "    <tr>\n",
       "      <th>K07Z0RPzJO</th>\n",
       "      <td>1.608192</td>\n",
       "      <td>1.962260</td>\n",
       "      <td>-0.038392</td>\n",
       "      <td>0.369137</td>\n",
       "    </tr>\n",
       "    <tr>\n",
       "      <th>GSxxWOFRvV</th>\n",
       "      <td>-0.074208</td>\n",
       "      <td>-0.132391</td>\n",
       "      <td>0.065031</td>\n",
       "      <td>0.686875</td>\n",
       "    </tr>\n",
       "    <tr>\n",
       "      <th>Nt7TME0yPV</th>\n",
       "      <td>0.593899</td>\n",
       "      <td>0.384599</td>\n",
       "      <td>1.983624</td>\n",
       "      <td>-1.356952</td>\n",
       "    </tr>\n",
       "  </tbody>\n",
       "</table>\n",
       "</div>"
      ],
      "text/plain": [
       "                   A         B         C         D\n",
       "PxLuH0ZU4X  0.544733 -0.373149  0.807058 -2.031482\n",
       "sbED5oMNnz  0.070206  0.833985 -1.764509  0.221349\n",
       "K07Z0RPzJO  1.608192  1.962260 -0.038392  0.369137\n",
       "GSxxWOFRvV -0.074208 -0.132391  0.065031  0.686875\n",
       "Nt7TME0yPV  0.593899  0.384599  1.983624 -1.356952"
      ]
     },
     "execution_count": 6,
     "metadata": {},
     "output_type": "execute_result"
    }
   ],
   "source": [
    "df = pd.util.testing.makeDataFrame()\n",
    "df.head()"
   ]
  },
  {
   "cell_type": "code",
   "execution_count": 3,
   "metadata": {},
   "outputs": [
    {
     "data": {
      "text/plain": [
       "<AxesSubplot:xlabel='A', ylabel='B'>"
      ]
     },
     "execution_count": 3,
     "metadata": {},
     "output_type": "execute_result"
    },
    {
     "data": {
      "image/png": "[encoded data removed]",
      "text/plain": [
       "<Figure size 432x288 with 1 Axes>"
      ]
     },
     "metadata": {
      "needs_background": "light"
     },
     "output_type": "display_data"
    }
   ],
   "source": [
    "df.plot.scatter('A','B')"
   ]
  },
  {
   "cell_type": "code",
   "execution_count": 7,
   "metadata": {},
   "outputs": [
    {
     "data": {
      "text/plain": [
       "<matplotlib.collections.PathCollection at 0x16aca55aec8>"
      ]
     },
     "execution_count": 7,
     "metadata": {},
     "output_type": "execute_result"
    },
    {
     "data": {
      "image/png": "[encoded data removed]",
      "text/plain": [
       "<Figure size 432x288 with 1 Axes>"
      ]
     },
     "metadata": {
      "needs_background": "light"
     },
     "output_type": "display_data"
    }
   ],
   "source": [
    "fig = plt.figure()                               # create plot\n",
    "ax = fig.add_subplot(111)                        # subplot for multiple plots (row-col-sum)\n",
    "ax.scatter(df['A'], df['B'], label='A/B')\n",
    "# ax.scatter(df['C'],df['D'], color='red', marker='^', label='C/D')\n",
    "# fig.set_size_inches(10,8)\n",
    "# ax.set(title='Testing Matplotlib with pandas', ylabel='B or D', xlabel='A or C')\n",
    "# ax.legend(loc='best')\n",
    "# ax.set(xlim=[-1,1], ylim=[-1,1])"
   ]
  },
  {
   "cell_type": "code",
   "execution_count": 5,
   "metadata": {},
   "outputs": [],
   "source": [
    "#plt.xkcd()\n",
    "#plt.rcdefaults()"
   ]
  }
 ],
 "metadata": {
  "kernelspec": {
   "display_name": "Python 3",
   "language": "python",
   "name": "python3"
  },
  "language_info": {
   "codemirror_mode": {
    "name": "ipython",
    "version": 3
   },
   "file_extension": ".py",
   "mimetype": "text/x-python",
   "name": "python",
   "nbconvert_exporter": "python",
   "pygments_lexer": "ipython3",
   "version": "3.7.6"
  }
 },
 "nbformat": 4,
 "nbformat_minor": 4
}
