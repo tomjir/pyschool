{
 "cells": [
  {
   "cell_type": "markdown",
   "metadata": {},
   "source": [
    "# Challenge\n",
    "Please see the README.md in this repository."
   ]
  },
  {
   "cell_type": "markdown",
   "metadata": {},
   "source": [
    "# Getting started\n",
    "## Importing Pandas and loading the training data"
   ]
  },
  {
   "cell_type": "code",
   "execution_count": 1,
   "metadata": {},
   "outputs": [],
   "source": [
    "import pandas as pd"
   ]
  },
  {
   "cell_type": "code",
   "execution_count": 2,
   "metadata": {},
   "outputs": [],
   "source": [
    "dataTrain = pd.read_csv('../data/Trainingdata_p4m.csv',';')"
   ]
  },
  {
   "cell_type": "markdown",
   "metadata": {},
   "source": [
    "## Explore the data set"
   ]
  },
  {
   "cell_type": "markdown",
   "metadata": {},
   "source": [
    "Feel free to use any search engine to help you with the following tasks!"
   ]
  },
  {
   "cell_type": "markdown",
   "metadata": {},
   "source": [
    "**Task** Write code to output the number of rows and columns of dataTrain."
   ]
  },
  {
   "cell_type": "code",
   "execution_count": 3,
   "metadata": {},
   "outputs": [
    {
     "data": {
      "text/plain": [
       "(9992, 23)"
      ]
     },
     "execution_count": 3,
     "metadata": {},
     "output_type": "execute_result"
    }
   ],
   "source": []
  },
  {
   "cell_type": "markdown",
   "metadata": {},
   "source": [
    "**Task** Get a list of column names."
   ]
  },
  {
   "cell_type": "code",
   "execution_count": 4,
   "metadata": {},
   "outputs": [
    {
     "data": {
      "text/plain": [
       "Index(['Q_Inj [mm3]', 'nEng [rpm]', 'p_transient_1 [bar]',\n",
       "       'p_transient_2 [bar]', 'p_transient_3 [bar]', 'p_transient_4 [bar]',\n",
       "       'p_transient_5 [bar]', 'p_transient_6 [bar]', 'p_transient_7 [bar]',\n",
       "       'p_transient_8 [bar]', 'p_transient_9 [bar]', 'p_transient_10 [bar]',\n",
       "       'p_transient_11 [bar]', 'p_transient_12 [bar]', 'p_transient_13 [bar]',\n",
       "       'p_transient_14 [bar]', 'p_transient_15 [bar]', 'p_transient_16 [bar]',\n",
       "       'p_transient_17 [bar]', 'p_transient_18 [bar]', 'p_transient_19 [bar]',\n",
       "       'p_transient_20 [bar]', 'phiMI [GradCrA]'],\n",
       "      dtype='object')"
      ]
     },
     "execution_count": 4,
     "metadata": {},
     "output_type": "execute_result"
    }
   ],
   "source": []
  },
  {
   "cell_type": "markdown",
   "metadata": {},
   "source": [
    "**Task** Calculate the mean of the target 'Q_Inj [mm3]'."
   ]
  },
  {
   "cell_type": "code",
   "execution_count": 5,
   "metadata": {},
   "outputs": [
    {
     "data": {
      "text/plain": [
       "114.36204463570857"
      ]
     },
     "execution_count": 5,
     "metadata": {},
     "output_type": "execute_result"
    }
   ],
   "source": []
  },
  {
   "cell_type": "markdown",
   "metadata": {},
   "source": [
    "**Task** Plot a histogram of the target."
   ]
  },
  {
   "cell_type": "code",
   "execution_count": 6,
   "metadata": {},
   "outputs": [
    {
     "data": {
      "text/plain": [
       "<AxesSubplot:>"
      ]
     },
     "execution_count": 6,
     "metadata": {},
     "output_type": "execute_result"
    },
    {
     "data": {
      "image/png": "[encoded data removed]",
      "text/plain": [
       "<Figure size 432x288 with 1 Axes>"
      ]
     },
     "metadata": {
      "needs_background": "light"
     },
     "output_type": "display_data"
    }
   ],
   "source": []
  },
  {
   "cell_type": "markdown",
   "metadata": {},
   "source": [
    "**Task** Plot histograms for all columns."
   ]
  },
  {
   "cell_type": "code",
   "execution_count": null,
   "metadata": {},
   "outputs": [],
   "source": []
  },
  {
   "cell_type": "markdown",
   "metadata": {},
   "source": [
    "**Task** Calculate the correlation between the target and all other columns."
   ]
  },
  {
   "cell_type": "code",
   "execution_count": 7,
   "metadata": {},
   "outputs": [
    {
     "data": {
      "text/plain": [
       "Q_Inj [mm3]             1.000000\n",
       "nEng [rpm]             -0.014421\n",
       "p_transient_1 [bar]    -0.053933\n",
       "p_transient_2 [bar]    -0.054208\n",
       "p_transient_3 [bar]    -0.053890\n",
       "p_transient_4 [bar]    -0.053713\n",
       "p_transient_5 [bar]    -0.053922\n",
       "p_transient_6 [bar]    -0.051974\n",
       "p_transient_7 [bar]    -0.043372\n",
       "p_transient_8 [bar]    -0.035536\n",
       "p_transient_9 [bar]    -0.031921\n",
       "p_transient_10 [bar]   -0.030042\n",
       "p_transient_11 [bar]   -0.033259\n",
       "p_transient_12 [bar]   -0.045077\n",
       "p_transient_13 [bar]   -0.058991\n",
       "p_transient_14 [bar]   -0.069295\n",
       "p_transient_15 [bar]   -0.074856\n",
       "p_transient_16 [bar]   -0.075138\n",
       "p_transient_17 [bar]   -0.067359\n",
       "p_transient_18 [bar]   -0.059793\n",
       "p_transient_19 [bar]   -0.056335\n",
       "p_transient_20 [bar]   -0.054388\n",
       "phiMI [GradCrA]         0.002289\n",
       "dtype: float64"
      ]
     },
     "execution_count": 7,
     "metadata": {},
     "output_type": "execute_result"
    }
   ],
   "source": []
  },
  {
   "cell_type": "markdown",
   "metadata": {},
   "source": [
    "**Task** Find out which column (besides the target itself) has the highest absolute correlation with the target."
   ]
  },
  {
   "cell_type": "code",
   "execution_count": 8,
   "metadata": {},
   "outputs": [
    {
     "data": {
      "text/plain": [
       "p_transient_16 [bar]   -0.075138\n",
       "p_transient_15 [bar]   -0.074856\n",
       "p_transient_14 [bar]   -0.069295\n",
       "p_transient_17 [bar]   -0.067359\n",
       "p_transient_18 [bar]   -0.059793\n",
       "p_transient_13 [bar]   -0.058991\n",
       "p_transient_19 [bar]   -0.056335\n",
       "p_transient_20 [bar]   -0.054388\n",
       "p_transient_2 [bar]    -0.054208\n",
       "p_transient_1 [bar]    -0.053933\n",
       "p_transient_5 [bar]    -0.053922\n",
       "p_transient_3 [bar]    -0.053890\n",
       "p_transient_4 [bar]    -0.053713\n",
       "p_transient_6 [bar]    -0.051974\n",
       "p_transient_12 [bar]   -0.045077\n",
       "p_transient_7 [bar]    -0.043372\n",
       "p_transient_8 [bar]    -0.035536\n",
       "p_transient_11 [bar]   -0.033259\n",
       "p_transient_9 [bar]    -0.031921\n",
       "p_transient_10 [bar]   -0.030042\n",
       "nEng [rpm]             -0.014421\n",
       "phiMI [GradCrA]         0.002289\n",
       "Q_Inj [mm3]             1.000000\n",
       "dtype: float64"
      ]
     },
     "execution_count": 8,
     "metadata": {},
     "output_type": "execute_result"
    }
   ],
   "source": []
  },
  {
   "cell_type": "markdown",
   "metadata": {},
   "source": [
    "**Task** Plot the scatter plot between the target and the column from the previous task."
   ]
  },
  {
   "cell_type": "code",
   "execution_count": 9,
   "metadata": {},
   "outputs": [
    {
     "data": {
      "text/plain": [
       "<AxesSubplot:xlabel='p_transient_16 [bar]', ylabel='Q_Inj [mm3]'>"
      ]
     },
     "execution_count": 9,
     "metadata": {},
     "output_type": "execute_result"
    },
    {
     "data": {
      "image/png": "[encoded data removed]",
      "text/plain": [
       "<Figure size 432x288 with 1 Axes>"
      ]
     },
     "metadata": {
      "needs_background": "light"
     },
     "output_type": "display_data"
    }
   ],
   "source": []
  },
  {
   "cell_type": "markdown",
   "metadata": {},
   "source": [
    "**Task** Does the scatter plot or the correlations look promising, for predicting the target?"
   ]
  },
  {
   "cell_type": "markdown",
   "metadata": {},
   "source": [
    "Think about the answer before scrolling further."
   ]
  },
  {
   "cell_type": "markdown",
   "metadata": {},
   "source": [
    "You need more domain knowledge to preprocess the data further.\n",
    "The first information you get is:\n",
    "**Domain Knowledge** In each row of the dataset, the columns named *p_transient_x [bar]* form a time series."
   ]
  },
  {
   "cell_type": "markdown",
   "metadata": {},
   "source": [
    "**Task** Visualize the p_transient time series for a single row."
   ]
  },
  {
   "cell_type": "code",
   "execution_count": 10,
   "metadata": {},
   "outputs": [],
   "source": [
    "transients = [f\"p_transient_{i} [bar]\" for i in range(1, 21)] # a list of relevant column names for your convenience\n",
    "# Your code here"
   ]
  },
  {
   "cell_type": "markdown",
   "metadata": {},
   "source": [
    "**Task** Visualize the p_transient time series for a few more rows."
   ]
  },
  {
   "cell_type": "code",
   "execution_count": null,
   "metadata": {},
   "outputs": [],
   "source": []
  },
  {
   "cell_type": "markdown",
   "metadata": {},
   "source": [
    "**Domain Knowledge** For our target, the variations within individual time series are more important than across time series.\n",
    "You come up with the following preprocessing function to adjust your data accordingly:"
   ]
  },
  {
   "cell_type": "code",
   "execution_count": 11,
   "metadata": {},
   "outputs": [],
   "source": [
    "def preprocess(df):\n",
    "    transients = [f\"p_transient_{i} [bar]\" for i in range(1, 21)]\n",
    "    # shift the time series, so that the maximum of each series is at 0.\n",
    "    df.loc[:,transients] = df.loc[:, transients].sub(df.loc[:, transients].max(axis=1), axis=0)\n",
    "    return df"
   ]
  },
  {
   "cell_type": "markdown",
   "metadata": {},
   "source": [
    "**Task** Apply that function to dataTrain, so that dataTrain contains the preprocessed data."
   ]
  },
  {
   "cell_type": "code",
   "execution_count": null,
   "metadata": {},
   "outputs": [],
   "source": []
  },
  {
   "cell_type": "markdown",
   "metadata": {},
   "source": [
    "**Task** Visualize a few of the time series again. What is the difference to before?"
   ]
  },
  {
   "cell_type": "code",
   "execution_count": null,
   "metadata": {},
   "outputs": [],
   "source": []
  },
  {
   "cell_type": "markdown",
   "metadata": {},
   "source": [
    "**Task** Calculate correlations again. What changed?"
   ]
  },
  {
   "cell_type": "code",
   "execution_count": null,
   "metadata": {},
   "outputs": [],
   "source": []
  },
  {
   "cell_type": "markdown",
   "metadata": {},
   "source": [
    "**Task** Create a scatter plot between the target and any of the highly correlated feature columns."
   ]
  },
  {
   "cell_type": "markdown",
   "metadata": {},
   "source": [
    "# First ML"
   ]
  },
  {
   "cell_type": "markdown",
   "metadata": {},
   "source": [
    "**Task** Create a dataframe *dataTrainX* containing only the feature columns."
   ]
  },
  {
   "cell_type": "code",
   "execution_count": null,
   "metadata": {},
   "outputs": [],
   "source": []
  },
  {
   "cell_type": "markdown",
   "metadata": {},
   "source": [
    "**Task** Create a pandas series *dataTrainY* consisting of only the target column."
   ]
  },
  {
   "cell_type": "code",
   "execution_count": null,
   "metadata": {},
   "outputs": [],
   "source": []
  },
  {
   "cell_type": "markdown",
   "metadata": {},
   "source": [
    "**Task** Import from scikit learn: MinMax-Scaler and (MLP) Multi-Layer Perceptron."
   ]
  },
  {
   "cell_type": "code",
   "execution_count": null,
   "metadata": {},
   "outputs": [],
   "source": []
  },
  {
   "cell_type": "markdown",
   "metadata": {},
   "source": [
    "**Task** Fit and apply the MinMax-Scaler to *dataTrainX*"
   ]
  },
  {
   "cell_type": "code",
   "execution_count": null,
   "metadata": {},
   "outputs": [],
   "source": []
  },
  {
   "cell_type": "markdown",
   "metadata": {},
   "source": [
    "**Task** Initialize a MLP."
   ]
  },
  {
   "cell_type": "code",
   "execution_count": null,
   "metadata": {},
   "outputs": [],
   "source": []
  },
  {
   "cell_type": "markdown",
   "metadata": {},
   "source": [
    "**Task** Fit the MLP on the training data."
   ]
  },
  {
   "cell_type": "code",
   "execution_count": null,
   "metadata": {},
   "outputs": [],
   "source": []
  },
  {
   "cell_type": "markdown",
   "metadata": {},
   "source": [
    "# First Evaluation"
   ]
  },
  {
   "cell_type": "markdown",
   "metadata": {},
   "source": [
    "**Task** Load the test set (it's in the same folder as the training set) into a dataframe *dataTest*."
   ]
  },
  {
   "cell_type": "code",
   "execution_count": null,
   "metadata": {},
   "outputs": [],
   "source": []
  },
  {
   "cell_type": "markdown",
   "metadata": {},
   "source": [
    "**Task** Apply the time series preprocessing to the test set."
   ]
  },
  {
   "cell_type": "code",
   "execution_count": null,
   "metadata": {},
   "outputs": [],
   "source": []
  },
  {
   "cell_type": "markdown",
   "metadata": {},
   "source": [
    "**Task** Split *dataTest* into *dataTestX* and *dataTestY*."
   ]
  },
  {
   "cell_type": "code",
   "execution_count": null,
   "metadata": {},
   "outputs": [],
   "source": []
  },
  {
   "cell_type": "markdown",
   "metadata": {},
   "source": [
    "**Task** Apply the MinMax scaler to *dataTestX*."
   ]
  },
  {
   "cell_type": "code",
   "execution_count": null,
   "metadata": {},
   "outputs": [],
   "source": []
  },
  {
   "cell_type": "markdown",
   "metadata": {},
   "source": [
    "**Task** Predict on *dataTestX*."
   ]
  },
  {
   "cell_type": "code",
   "execution_count": null,
   "metadata": {},
   "outputs": [],
   "source": []
  },
  {
   "cell_type": "markdown",
   "metadata": {},
   "source": [
    "**Task** Evaluate your prediction."
   ]
  },
  {
   "cell_type": "code",
   "execution_count": null,
   "metadata": {},
   "outputs": [],
   "source": []
  }
 ],
 "metadata": {
  "kernelspec": {
   "display_name": "Python 3",
   "language": "python",
   "name": "python3"
  },
  "language_info": {
   "codemirror_mode": {
    "name": "ipython",
    "version": 3
   },
   "file_extension": ".py",
   "mimetype": "text/x-python",
   "name": "python",
   "nbconvert_exporter": "python",
   "pygments_lexer": "ipython3",
   "version": "3.8.5"
  }
 },
 "nbformat": 4,
 "nbformat_minor": 4
}
